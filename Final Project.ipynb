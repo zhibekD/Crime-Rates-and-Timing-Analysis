{
 "cells": [
  {
   "cell_type": "code",
   "execution_count": 196,
   "id": "senior-credit",
   "metadata": {},
   "outputs": [],
   "source": [
    "library(tidyverse)\n",
    "library(rvest)\n",
    "library(stringr)\n",
    "library(repr)\n",
    "library(tidymodels)\n",
    "library(infer)\n",
    "library(dplyr)\n",
    "library(plyr)"
   ]
  },
  {
   "cell_type": "code",
   "execution_count": 197,
   "id": "expanded-checkout",
   "metadata": {},
   "outputs": [
    {
     "data": {
      "text/html": [
       "<table class=\"dataframe\">\n",
       "<caption>A data.frame: 6 × 10</caption>\n",
       "<thead>\n",
       "\t<tr><th></th><th scope=col>TYPE</th><th scope=col>YEAR</th><th scope=col>MONTH</th><th scope=col>DAY</th><th scope=col>HOUR</th><th scope=col>MINUTE</th><th scope=col>HUNDRED_BLOCK</th><th scope=col>NEIGHBOURHOOD</th><th scope=col>X</th><th scope=col>Y</th></tr>\n",
       "\t<tr><th></th><th scope=col>&lt;chr&gt;</th><th scope=col>&lt;int&gt;</th><th scope=col>&lt;int&gt;</th><th scope=col>&lt;int&gt;</th><th scope=col>&lt;int&gt;</th><th scope=col>&lt;int&gt;</th><th scope=col>&lt;chr&gt;</th><th scope=col>&lt;chr&gt;</th><th scope=col>&lt;dbl&gt;</th><th scope=col>&lt;dbl&gt;</th></tr>\n",
       "</thead>\n",
       "<tbody>\n",
       "\t<tr><th scope=row>1</th><td>Theft of Vehicle</td><td>2020</td><td> 4</td><td>19</td><td>21</td><td>30</td><td>29XX SLOCAN ST  </td><td>Renfrew-Collingwood      </td><td>496397.5</td><td>5456123</td></tr>\n",
       "\t<tr><th scope=row>2</th><td>Theft of Vehicle</td><td>2020</td><td> 2</td><td>21</td><td> 1</td><td>43</td><td>29XX VENABLES ST</td><td>Hastings-Sunrise         </td><td>496801.2</td><td>5458182</td></tr>\n",
       "\t<tr><th scope=row>3</th><td>Theft of Vehicle</td><td>2020</td><td> 2</td><td>11</td><td> 1</td><td>30</td><td>29XX VIRTUAL WAY</td><td>Renfrew-Collingwood      </td><td>497011.9</td><td>5456474</td></tr>\n",
       "\t<tr><th scope=row>4</th><td>Theft of Vehicle</td><td>2020</td><td> 5</td><td>16</td><td>22</td><td> 0</td><td>29XX W 10TH AVE </td><td>Kitsilano                </td><td>487613.2</td><td>5456729</td></tr>\n",
       "\t<tr><th scope=row>5</th><td>Theft of Vehicle</td><td>2020</td><td> 1</td><td> 1</td><td>12</td><td> 0</td><td>29XX WOODLAND DR</td><td>Kensington-Cedar Cottage </td><td>494641.9</td><td>5456214</td></tr>\n",
       "\t<tr><th scope=row>6</th><td>Theft of Vehicle</td><td>2020</td><td>11</td><td>22</td><td> 0</td><td>37</td><td>2X E CORDOVA ST </td><td>Central Business District</td><td>492453.1</td><td>5458847</td></tr>\n",
       "</tbody>\n",
       "</table>\n"
      ],
      "text/latex": [
       "A data.frame: 6 × 10\n",
       "\\begin{tabular}{r|llllllllll}\n",
       "  & TYPE & YEAR & MONTH & DAY & HOUR & MINUTE & HUNDRED\\_BLOCK & NEIGHBOURHOOD & X & Y\\\\\n",
       "  & <chr> & <int> & <int> & <int> & <int> & <int> & <chr> & <chr> & <dbl> & <dbl>\\\\\n",
       "\\hline\n",
       "\t1 & Theft of Vehicle & 2020 &  4 & 19 & 21 & 30 & 29XX SLOCAN ST   & Renfrew-Collingwood       & 496397.5 & 5456123\\\\\n",
       "\t2 & Theft of Vehicle & 2020 &  2 & 21 &  1 & 43 & 29XX VENABLES ST & Hastings-Sunrise          & 496801.2 & 5458182\\\\\n",
       "\t3 & Theft of Vehicle & 2020 &  2 & 11 &  1 & 30 & 29XX VIRTUAL WAY & Renfrew-Collingwood       & 497011.9 & 5456474\\\\\n",
       "\t4 & Theft of Vehicle & 2020 &  5 & 16 & 22 &  0 & 29XX W 10TH AVE  & Kitsilano                 & 487613.2 & 5456729\\\\\n",
       "\t5 & Theft of Vehicle & 2020 &  1 &  1 & 12 &  0 & 29XX WOODLAND DR & Kensington-Cedar Cottage  & 494641.9 & 5456214\\\\\n",
       "\t6 & Theft of Vehicle & 2020 & 11 & 22 &  0 & 37 & 2X E CORDOVA ST  & Central Business District & 492453.1 & 5458847\\\\\n",
       "\\end{tabular}\n"
      ],
      "text/markdown": [
       "\n",
       "A data.frame: 6 × 10\n",
       "\n",
       "| <!--/--> | TYPE &lt;chr&gt; | YEAR &lt;int&gt; | MONTH &lt;int&gt; | DAY &lt;int&gt; | HOUR &lt;int&gt; | MINUTE &lt;int&gt; | HUNDRED_BLOCK &lt;chr&gt; | NEIGHBOURHOOD &lt;chr&gt; | X &lt;dbl&gt; | Y &lt;dbl&gt; |\n",
       "|---|---|---|---|---|---|---|---|---|---|---|\n",
       "| 1 | Theft of Vehicle | 2020 |  4 | 19 | 21 | 30 | 29XX SLOCAN ST   | Renfrew-Collingwood       | 496397.5 | 5456123 |\n",
       "| 2 | Theft of Vehicle | 2020 |  2 | 21 |  1 | 43 | 29XX VENABLES ST | Hastings-Sunrise          | 496801.2 | 5458182 |\n",
       "| 3 | Theft of Vehicle | 2020 |  2 | 11 |  1 | 30 | 29XX VIRTUAL WAY | Renfrew-Collingwood       | 497011.9 | 5456474 |\n",
       "| 4 | Theft of Vehicle | 2020 |  5 | 16 | 22 |  0 | 29XX W 10TH AVE  | Kitsilano                 | 487613.2 | 5456729 |\n",
       "| 5 | Theft of Vehicle | 2020 |  1 |  1 | 12 |  0 | 29XX WOODLAND DR | Kensington-Cedar Cottage  | 494641.9 | 5456214 |\n",
       "| 6 | Theft of Vehicle | 2020 | 11 | 22 |  0 | 37 | 2X E CORDOVA ST  | Central Business District | 492453.1 | 5458847 |\n",
       "\n"
      ],
      "text/plain": [
       "  TYPE             YEAR MONTH DAY HOUR MINUTE HUNDRED_BLOCK   \n",
       "1 Theft of Vehicle 2020  4    19  21   30     29XX SLOCAN ST  \n",
       "2 Theft of Vehicle 2020  2    21   1   43     29XX VENABLES ST\n",
       "3 Theft of Vehicle 2020  2    11   1   30     29XX VIRTUAL WAY\n",
       "4 Theft of Vehicle 2020  5    16  22    0     29XX W 10TH AVE \n",
       "5 Theft of Vehicle 2020  1     1  12    0     29XX WOODLAND DR\n",
       "6 Theft of Vehicle 2020 11    22   0   37     2X E CORDOVA ST \n",
       "  NEIGHBOURHOOD             X        Y      \n",
       "1 Renfrew-Collingwood       496397.5 5456123\n",
       "2 Hastings-Sunrise          496801.2 5458182\n",
       "3 Renfrew-Collingwood       497011.9 5456474\n",
       "4 Kitsilano                 487613.2 5456729\n",
       "5 Kensington-Cedar Cottage  494641.9 5456214\n",
       "6 Central Business District 492453.1 5458847"
      ]
     },
     "metadata": {},
     "output_type": "display_data"
    }
   ],
   "source": [
    "# Reading Data\n",
    "id <- \"1InFZlQaj3VzFHzhh5j8WJyDf4HmcD__-\" # google file ID\n",
    "vpd_crime_data <- read.csv(sprintf(\"https://docs.google.com/uc?id=%s&export=download\", id))\n",
    "vpd_crime_data <- na.omit(vpd_crime_data)\n",
    "head(vpd_crime_data)"
   ]
  },
  {
   "cell_type": "code",
   "execution_count": 198,
   "id": "received-minority",
   "metadata": {},
   "outputs": [
    {
     "name": "stdout",
     "output_type": "stream",
     "text": [
      "'data.frame':\t37491 obs. of  10 variables:\n",
      " $ TYPE         : chr  \"Theft of Vehicle\" \"Theft of Vehicle\" \"Theft of Vehicle\" \"Theft of Vehicle\" ...\n",
      " $ YEAR         : int  2020 2020 2020 2020 2020 2020 2020 2020 2020 2020 ...\n",
      " $ MONTH        : int  4 2 2 5 1 11 8 12 1 4 ...\n",
      " $ DAY          : int  19 21 11 16 1 22 17 24 1 8 ...\n",
      " $ HOUR         : int  21 1 1 22 12 0 21 23 0 21 ...\n",
      " $ MINUTE       : int  30 43 30 0 0 37 0 30 0 0 ...\n",
      " $ HUNDRED_BLOCK: chr  \"29XX SLOCAN ST\" \"29XX VENABLES ST\" \"29XX VIRTUAL WAY\" \"29XX W 10TH AVE\" ...\n",
      " $ NEIGHBOURHOOD: chr  \"Renfrew-Collingwood\" \"Hastings-Sunrise\" \"Renfrew-Collingwood\" \"Kitsilano\" ...\n",
      " $ X            : num  496397 496801 497012 487613 494642 ...\n",
      " $ Y            : num  5456123 5458182 5456474 5456729 5456214 ...\n",
      " - attr(*, \"na.action\")= 'omit' Named int 1081\n",
      "  ..- attr(*, \"names\")= chr \"1081\"\n"
     ]
    }
   ],
   "source": [
    "str(vpd_crime_data)"
   ]
  },
  {
   "cell_type": "code",
   "execution_count": 199,
   "id": "timely-aircraft",
   "metadata": {},
   "outputs": [
    {
     "data": {
      "text/plain": [
       "     TYPE                YEAR          MONTH             DAY       \n",
       " Length:37491       Min.   :2020   Min.   : 1.000   Min.   : 1.00  \n",
       " Class :character   1st Qu.:2020   1st Qu.: 3.000   1st Qu.: 8.00  \n",
       " Mode  :character   Median :2020   Median : 6.000   Median :15.00  \n",
       "                    Mean   :2020   Mean   : 6.175   Mean   :15.16  \n",
       "                    3rd Qu.:2020   3rd Qu.: 9.000   3rd Qu.:23.00  \n",
       "                    Max.   :2020   Max.   :12.000   Max.   :31.00  \n",
       "      HOUR           MINUTE      HUNDRED_BLOCK      NEIGHBOURHOOD     \n",
       " Min.   : 0.00   Min.   : 0.00   Length:37491       Length:37491      \n",
       " 1st Qu.: 4.00   1st Qu.: 0.00   Class :character   Class :character  \n",
       " Median :13.00   Median : 8.00   Mode  :character   Mode  :character  \n",
       " Mean   :11.46   Mean   :16.48                                        \n",
       " 3rd Qu.:18.00   3rd Qu.:30.00                                        \n",
       " Max.   :23.00   Max.   :59.00                                        \n",
       "       X                Y          \n",
       " Min.   :     0   Min.   :      0  \n",
       " 1st Qu.:490146   1st Qu.:5454382  \n",
       " Median :491619   Median :5457145  \n",
       " Mean   :443142   Mean   :4912528  \n",
       " 3rd Qu.:493350   3rd Qu.:5458712  \n",
       " Max.   :498292   Max.   :5462300  "
      ]
     },
     "metadata": {},
     "output_type": "display_data"
    }
   ],
   "source": [
    "summary(vpd_crime_data)"
   ]
  },
  {
   "cell_type": "code",
   "execution_count": 200,
   "id": "imposed-victorian",
   "metadata": {},
   "outputs": [
    {
     "data": {
      "text/html": [
       "<table class=\"dataframe\">\n",
       "<caption>A data.frame: 6 × 4</caption>\n",
       "<thead>\n",
       "\t<tr><th></th><th scope=col>TYPE</th><th scope=col>MONTH</th><th scope=col>DAY</th><th scope=col>NEIGHBOURHOOD</th></tr>\n",
       "\t<tr><th></th><th scope=col>&lt;chr&gt;</th><th scope=col>&lt;int&gt;</th><th scope=col>&lt;int&gt;</th><th scope=col>&lt;chr&gt;</th></tr>\n",
       "</thead>\n",
       "<tbody>\n",
       "\t<tr><th scope=row>1</th><td>Theft of Vehicle</td><td> 5</td><td>16</td><td>Kitsilano</td></tr>\n",
       "\t<tr><th scope=row>2</th><td>Theft of Vehicle</td><td> 2</td><td>22</td><td>Kitsilano</td></tr>\n",
       "\t<tr><th scope=row>3</th><td>Theft of Vehicle</td><td>12</td><td>24</td><td>Kitsilano</td></tr>\n",
       "\t<tr><th scope=row>4</th><td>Theft of Vehicle</td><td> 7</td><td>27</td><td>Kitsilano</td></tr>\n",
       "\t<tr><th scope=row>5</th><td>Theft of Vehicle</td><td> 1</td><td>16</td><td>Fairview </td></tr>\n",
       "\t<tr><th scope=row>6</th><td>Theft of Vehicle</td><td> 3</td><td>21</td><td>Fairview </td></tr>\n",
       "</tbody>\n",
       "</table>\n"
      ],
      "text/latex": [
       "A data.frame: 6 × 4\n",
       "\\begin{tabular}{r|llll}\n",
       "  & TYPE & MONTH & DAY & NEIGHBOURHOOD\\\\\n",
       "  & <chr> & <int> & <int> & <chr>\\\\\n",
       "\\hline\n",
       "\t1 & Theft of Vehicle &  5 & 16 & Kitsilano\\\\\n",
       "\t2 & Theft of Vehicle &  2 & 22 & Kitsilano\\\\\n",
       "\t3 & Theft of Vehicle & 12 & 24 & Kitsilano\\\\\n",
       "\t4 & Theft of Vehicle &  7 & 27 & Kitsilano\\\\\n",
       "\t5 & Theft of Vehicle &  1 & 16 & Fairview \\\\\n",
       "\t6 & Theft of Vehicle &  3 & 21 & Fairview \\\\\n",
       "\\end{tabular}\n"
      ],
      "text/markdown": [
       "\n",
       "A data.frame: 6 × 4\n",
       "\n",
       "| <!--/--> | TYPE &lt;chr&gt; | MONTH &lt;int&gt; | DAY &lt;int&gt; | NEIGHBOURHOOD &lt;chr&gt; |\n",
       "|---|---|---|---|---|\n",
       "| 1 | Theft of Vehicle |  5 | 16 | Kitsilano |\n",
       "| 2 | Theft of Vehicle |  2 | 22 | Kitsilano |\n",
       "| 3 | Theft of Vehicle | 12 | 24 | Kitsilano |\n",
       "| 4 | Theft of Vehicle |  7 | 27 | Kitsilano |\n",
       "| 5 | Theft of Vehicle |  1 | 16 | Fairview  |\n",
       "| 6 | Theft of Vehicle |  3 | 21 | Fairview  |\n",
       "\n"
      ],
      "text/plain": [
       "  TYPE             MONTH DAY NEIGHBOURHOOD\n",
       "1 Theft of Vehicle  5    16  Kitsilano    \n",
       "2 Theft of Vehicle  2    22  Kitsilano    \n",
       "3 Theft of Vehicle 12    24  Kitsilano    \n",
       "4 Theft of Vehicle  7    27  Kitsilano    \n",
       "5 Theft of Vehicle  1    16  Fairview     \n",
       "6 Theft of Vehicle  3    21  Fairview     "
      ]
     },
     "metadata": {},
     "output_type": "display_data"
    }
   ],
   "source": [
    "# Tidying Data\n",
    "neighbourhoods <- c(\"Arbutus Ridge\", \"Fairview\", \"Kerrisdale\", \"Kitsilano\", \"West Point Grey\") # Near UBC neighbourhoods\n",
    "\n",
    "vpd_crime_data <- vpd_crime_data %>% \n",
    "    select(TYPE, MONTH, DAY, NEIGHBOURHOOD) %>%\n",
    "    filter(NEIGHBOURHOOD %in% neighbourhoods)\n",
    "\n",
    "head(vpd_crime_data)"
   ]
  },
  {
   "cell_type": "code",
   "execution_count": 201,
   "id": "laden-heather",
   "metadata": {},
   "outputs": [
    {
     "data": {
      "text/html": [
       "<table class=\"dataframe\">\n",
       "<caption>A data.frame: 2 × 2</caption>\n",
       "<thead>\n",
       "\t<tr><th scope=col>num_of_crimes</th><th scope=col>terms</th></tr>\n",
       "\t<tr><th scope=col>&lt;int&gt;</th><th scope=col>&lt;chr&gt;</th></tr>\n",
       "</thead>\n",
       "<tbody>\n",
       "\t<tr><td>1669</td><td>First Term </td></tr>\n",
       "\t<tr><td>1914</td><td>Second term</td></tr>\n",
       "</tbody>\n",
       "</table>\n"
      ],
      "text/latex": [
       "A data.frame: 2 × 2\n",
       "\\begin{tabular}{ll}\n",
       " num\\_of\\_crimes & terms\\\\\n",
       " <int> & <chr>\\\\\n",
       "\\hline\n",
       "\t 1669 & First Term \\\\\n",
       "\t 1914 & Second term\\\\\n",
       "\\end{tabular}\n"
      ],
      "text/markdown": [
       "\n",
       "A data.frame: 2 × 2\n",
       "\n",
       "| num_of_crimes &lt;int&gt; | terms &lt;chr&gt; |\n",
       "|---|---|\n",
       "| 1669 | First Term  |\n",
       "| 1914 | Second term |\n",
       "\n"
      ],
      "text/plain": [
       "  num_of_crimes terms      \n",
       "1 1669          First Term \n",
       "2 1914          Second term"
      ]
     },
     "metadata": {},
     "output_type": "display_data"
    }
   ],
   "source": [
    "# Number of crimes by months\n",
    "crimes_by_months <- vpd_crime_data %>%\n",
    "    group_by(MONTH) %>%\n",
    "    dplyr::summarise(count_crimes = n())\n",
    "\n",
    "first_term_months <- c(9, 10, 11, 12)\n",
    "second_term_months <- c(1, 2, 3, 4)\n",
    "\n",
    "terms <- c(\"First Term\", \"Second term\")\n",
    "\n",
    "# Counting the number of crimes for both terms separately\n",
    "crimes_for_term_one <- crimes_by_months %>%\n",
    "    filter(MONTH %in% first_term_months) %>%\n",
    "    summarize(count_crimes = sum(count_crimes))\n",
    "\n",
    "crimes_for_term_two <- crimes_by_months %>%\n",
    "    filter(MONTH %in% second_term_months) %>%\n",
    "    summarize(count_crimes = sum(count_crimes))\n",
    "\n",
    "# Binding all four data frames into one data frame to get the number of crimes in both terms\n",
    "crimes_by_term <- rbind(crimes_for_term_one, crimes_for_term_two) %>%\n",
    "    cbind(terms) \n",
    "\n",
    "# Renaming new column to terms' column\n",
    "names(crimes_by_term)[names(crimes_by_term) == \"count_crimes\"] <- \"num_of_crimes\"\n",
    "crimes_by_term"
   ]
  },
  {
   "cell_type": "code",
   "execution_count": 202,
   "id": "honest-flood",
   "metadata": {},
   "outputs": [
    {
     "data": {
      "image/png": "[encoded data removed]",
      "text/plain": [
       "plot without title"
      ]
     },
     "metadata": {
      "image/png": {
       "height": 600,
       "width": 600
      }
     },
     "output_type": "display_data"
    }
   ],
   "source": [
    "# Bar plot for total number of crimes in both terms\n",
    "options(repr.plot.width = 10, repr.plot.height = 10)\n",
    "\n",
    "crimes_by_term_plot <- crimes_by_term %>%\n",
    "    ggplot(aes(x = terms, num_of_crimes,\n",
    "               y = num_of_crimes)) +\n",
    "    geom_bar(stat = \"identity\", fill = \"steelblue\") +\n",
    "    labs(x = \"Terms\", y = \"Number of crimes\") +\n",
    "    ggtitle(\"Total number of crimes in Term One and Term Two\") +\n",
    "    theme(text = element_text(size = 20))\n",
    "crimes_by_term_plot"
   ]
  },
  {
   "cell_type": "markdown",
   "id": "operating-military",
   "metadata": {},
   "source": [
    "### Finding the rate (# of crimes in  each day/total # of crimes in each term)"
   ]
  },
  {
   "cell_type": "code",
   "execution_count": 203,
   "id": "sexual-lindsay",
   "metadata": {},
   "outputs": [
    {
     "name": "stderr",
     "output_type": "stream",
     "text": [
      "`summarise()` has grouped output by 'DAY'. You can override using the `.groups` argument.\n",
      "\n"
     ]
    },
    {
     "data": {
      "text/html": [
       "<table class=\"dataframe\">\n",
       "<caption>A data.frame: 6 × 5</caption>\n",
       "<thead>\n",
       "\t<tr><th></th><th scope=col>DAY</th><th scope=col>MONTH</th><th scope=col>count_crimes</th><th scope=col>total_num</th><th scope=col>rate</th></tr>\n",
       "\t<tr><th></th><th scope=col>&lt;int&gt;</th><th scope=col>&lt;int&gt;</th><th scope=col>&lt;int&gt;</th><th scope=col>&lt;dbl&gt;</th><th scope=col>&lt;dbl&gt;</th></tr>\n",
       "</thead>\n",
       "<tbody>\n",
       "\t<tr><th scope=row>1</th><td>1</td><td> 9</td><td>17</td><td>1669</td><td>0.010185740</td></tr>\n",
       "\t<tr><th scope=row>2</th><td>1</td><td>10</td><td>22</td><td>1669</td><td>0.013181546</td></tr>\n",
       "\t<tr><th scope=row>3</th><td>1</td><td>11</td><td>13</td><td>1669</td><td>0.007789095</td></tr>\n",
       "\t<tr><th scope=row>4</th><td>1</td><td>12</td><td>17</td><td>1669</td><td>0.010185740</td></tr>\n",
       "\t<tr><th scope=row>5</th><td>2</td><td> 9</td><td>15</td><td>1669</td><td>0.008987418</td></tr>\n",
       "\t<tr><th scope=row>6</th><td>2</td><td>10</td><td>16</td><td>1669</td><td>0.009586579</td></tr>\n",
       "</tbody>\n",
       "</table>\n"
      ],
      "text/latex": [
       "A data.frame: 6 × 5\n",
       "\\begin{tabular}{r|lllll}\n",
       "  & DAY & MONTH & count\\_crimes & total\\_num & rate\\\\\n",
       "  & <int> & <int> & <int> & <dbl> & <dbl>\\\\\n",
       "\\hline\n",
       "\t1 & 1 &  9 & 17 & 1669 & 0.010185740\\\\\n",
       "\t2 & 1 & 10 & 22 & 1669 & 0.013181546\\\\\n",
       "\t3 & 1 & 11 & 13 & 1669 & 0.007789095\\\\\n",
       "\t4 & 1 & 12 & 17 & 1669 & 0.010185740\\\\\n",
       "\t5 & 2 &  9 & 15 & 1669 & 0.008987418\\\\\n",
       "\t6 & 2 & 10 & 16 & 1669 & 0.009586579\\\\\n",
       "\\end{tabular}\n"
      ],
      "text/markdown": [
       "\n",
       "A data.frame: 6 × 5\n",
       "\n",
       "| <!--/--> | DAY &lt;int&gt; | MONTH &lt;int&gt; | count_crimes &lt;int&gt; | total_num &lt;dbl&gt; | rate &lt;dbl&gt; |\n",
       "|---|---|---|---|---|---|\n",
       "| 1 | 1 |  9 | 17 | 1669 | 0.010185740 |\n",
       "| 2 | 1 | 10 | 22 | 1669 | 0.013181546 |\n",
       "| 3 | 1 | 11 | 13 | 1669 | 0.007789095 |\n",
       "| 4 | 1 | 12 | 17 | 1669 | 0.010185740 |\n",
       "| 5 | 2 |  9 | 15 | 1669 | 0.008987418 |\n",
       "| 6 | 2 | 10 | 16 | 1669 | 0.009586579 |\n",
       "\n"
      ],
      "text/plain": [
       "  DAY MONTH count_crimes total_num rate       \n",
       "1 1    9    17           1669      0.010185740\n",
       "2 1   10    22           1669      0.013181546\n",
       "3 1   11    13           1669      0.007789095\n",
       "4 1   12    17           1669      0.010185740\n",
       "5 2    9    15           1669      0.008987418\n",
       "6 2   10    16           1669      0.009586579"
      ]
     },
     "metadata": {},
     "output_type": "display_data"
    }
   ],
   "source": [
    "# Adding rate column of crimes for each month in both terms\n",
    "\n",
    "# Number of crimes in each day\n",
    "crimes_in_day<- vpd_crime_data %>%\n",
    "    group_by(DAY, MONTH) %>%\n",
    "    dplyr::summarise(count_crimes = n())\n",
    "crimes_in_day <- as.data.frame(crimes_in_day)\n",
    "\n",
    "crimes_rate_term_1 <- crimes_in_day %>%\n",
    "    filter(MONTH %in% first_term_months) %>%\n",
    "    mutate(total_num = 1669)\n",
    "\n",
    "crimes_rate_term_2 <- crimes_in_day %>%\n",
    "    filter(MONTH %in% second_term_months) %>%\n",
    "    mutate(total_num = 1914)\n",
    "\n",
    "crimes_rate <- rbind(crimes_rate_term_1, crimes_rate_term_2) %>%\n",
    "    mutate(rate = count_crimes/total_num)\n",
    "head(crimes_rate)"
   ]
  },
  {
   "cell_type": "code",
   "execution_count": 204,
   "id": "divine-credit",
   "metadata": {},
   "outputs": [
    {
     "name": "stderr",
     "output_type": "stream",
     "text": [
      "`stat_bin()` using `bins = 30`. Pick better value with `binwidth`.\n",
      "\n"
     ]
    },
    {
     "data": {
      "image/png": "[encoded data removed]",
      "text/plain": [
       "plot without title"
      ]
     },
     "metadata": {
      "image/png": {
       "height": 480,
       "width": 480
      }
     },
     "output_type": "display_data"
    }
   ],
   "source": [
    "# Population plot\n",
    "options(repr.plot.width = 8, repr.plot.height = 8)\n",
    "\n",
    "plot_crimes_rate <- crimes_rate %>%\n",
    "    ggplot() +\n",
    "    geom_histogram(aes(x = rate, y = ..density..), color = \"blue\") +\n",
    "    theme(text = element_text(size = 20)) +\n",
    "    xlab(\"Crime rate per day\") +\n",
    "    ylab(\"Density\") + \n",
    "    ggtitle(\"Population Distribution of crime rate per day\")\n",
    "plot_crimes_rate"
   ]
  },
  {
   "cell_type": "markdown",
   "id": "decimal-distinction",
   "metadata": {},
   "source": [
    "### Hypotheses:\n",
    "\n",
    "H<sub> 0 </sub> : there is no difference in the mean of rate of number of crimes per day in term 1 and 2\n",
    "\n",
    "H<sub> A </sub> :  there is a difference in the mean of rate of number of crimes per day in term 1 and 2"
   ]
  },
  {
   "cell_type": "markdown",
   "id": "twelve-favor",
   "metadata": {},
   "source": [
    "### Asymptotic"
   ]
  },
  {
   "cell_type": "code",
   "execution_count": 205,
   "id": "molecular-personality",
   "metadata": {},
   "outputs": [
    {
     "data": {
      "text/html": [
       "0.00823045267489712"
      ],
      "text/latex": [
       "0.00823045267489712"
      ],
      "text/markdown": [
       "0.00823045267489712"
      ],
      "text/plain": [
       "[1] 0.008230453"
      ]
     },
     "metadata": {},
     "output_type": "display_data"
    },
    {
     "data": {
      "text/html": [
       "0.00281333360867"
      ],
      "text/latex": [
       "0.00281333360867"
      ],
      "text/markdown": [
       "0.00281333360867"
      ],
      "text/plain": [
       "[1] 0.002813334"
      ]
     },
     "metadata": {},
     "output_type": "display_data"
    },
    {
     "data": {
      "text/html": [
       "0.00819672131147541"
      ],
      "text/latex": [
       "0.00819672131147541"
      ],
      "text/markdown": [
       "0.00819672131147541"
      ],
      "text/plain": [
       "[1] 0.008196721"
      ]
     },
     "metadata": {},
     "output_type": "display_data"
    },
    {
     "data": {
      "text/html": [
       "0.003045667379458"
      ],
      "text/latex": [
       "0.003045667379458"
      ],
      "text/markdown": [
       "0.003045667379458"
      ],
      "text/plain": [
       "[1] 0.003045667"
      ]
     },
     "metadata": {},
     "output_type": "display_data"
    },
    {
     "data": {
      "text/html": [
       "0.00826446280991736"
      ],
      "text/latex": [
       "0.00826446280991736"
      ],
      "text/markdown": [
       "0.00826446280991736"
      ],
      "text/plain": [
       "[1] 0.008264463"
      ]
     },
     "metadata": {},
     "output_type": "display_data"
    },
    {
     "data": {
      "text/html": [
       "0.00257019307758597"
      ],
      "text/latex": [
       "0.00257019307758597"
      ],
      "text/markdown": [
       "0.00257019307758597"
      ],
      "text/plain": [
       "[1] 0.002570193"
      ]
     },
     "metadata": {},
     "output_type": "display_data"
    }
   ],
   "source": [
    "# Finidng the mean and sd for the rate of crimes for both terms together\n",
    "pop_mu <- mean(crimes_rate$rate)\n",
    "pop_sd <- sd(crimes_rate$rate)\n",
    "pop_mu\n",
    "pop_sd\n",
    "\n",
    "# Finidng the mean and sd for the rate of crimes for Term One\n",
    "crimes_rate_term_1 <- crimes_rate %>%\n",
    "    filter(total_num == \"1669\")\n",
    "\n",
    "pop_mu_term_1 <- mean(crimes_rate_term_1$rate)\n",
    "pop_mu_term_1\n",
    "\n",
    "pop_sd_term_1 <- sd(crimes_rate_term_1$rate)\n",
    "pop_sd_term_1\n",
    "\n",
    "\n",
    "# Finidng the mean and sd for the rate of crimes for Term Two\n",
    "crimes_rate_term_2 <- crimes_rate %>%\n",
    "    filter(total_num == \"1914\")\n",
    "\n",
    "pop_mu_term_2 <- mean(crimes_rate_term_2$rate)\n",
    "pop_mu_term_2\n",
    "\n",
    "pop_sd_term_2 <- sd(crimes_rate_term_2$rate)\n",
    "pop_sd_term_2"
   ]
  },
  {
   "cell_type": "code",
   "execution_count": 207,
   "id": "running-calculator",
   "metadata": {},
   "outputs": [
    {
     "data": {
      "text/html": [
       "<table class=\"dataframe\">\n",
       "<caption>A tibble: 6 × 2</caption>\n",
       "<thead>\n",
       "\t<tr><th scope=col>replicate</th><th scope=col>sample_mean_rate</th></tr>\n",
       "\t<tr><th scope=col>&lt;int&gt;</th><th scope=col>&lt;dbl&gt;</th></tr>\n",
       "</thead>\n",
       "<tbody>\n",
       "\t<tr><td>1</td><td>0.008508007</td></tr>\n",
       "\t<tr><td>2</td><td>0.007964872</td></tr>\n",
       "\t<tr><td>3</td><td>0.007908791</td></tr>\n",
       "\t<tr><td>4</td><td>0.007719334</td></tr>\n",
       "\t<tr><td>5</td><td>0.008355704</td></tr>\n",
       "\t<tr><td>6</td><td>0.008550189</td></tr>\n",
       "</tbody>\n",
       "</table>\n"
      ],
      "text/latex": [
       "A tibble: 6 × 2\n",
       "\\begin{tabular}{ll}\n",
       " replicate & sample\\_mean\\_rate\\\\\n",
       " <int> & <dbl>\\\\\n",
       "\\hline\n",
       "\t 1 & 0.008508007\\\\\n",
       "\t 2 & 0.007964872\\\\\n",
       "\t 3 & 0.007908791\\\\\n",
       "\t 4 & 0.007719334\\\\\n",
       "\t 5 & 0.008355704\\\\\n",
       "\t 6 & 0.008550189\\\\\n",
       "\\end{tabular}\n"
      ],
      "text/markdown": [
       "\n",
       "A tibble: 6 × 2\n",
       "\n",
       "| replicate &lt;int&gt; | sample_mean_rate &lt;dbl&gt; |\n",
       "|---|---|\n",
       "| 1 | 0.008508007 |\n",
       "| 2 | 0.007964872 |\n",
       "| 3 | 0.007908791 |\n",
       "| 4 | 0.007719334 |\n",
       "| 5 | 0.008355704 |\n",
       "| 6 | 0.008550189 |\n",
       "\n"
      ],
      "text/plain": [
       "  replicate sample_mean_rate\n",
       "1 1         0.008508007     \n",
       "2 2         0.007964872     \n",
       "3 3         0.007908791     \n",
       "4 4         0.007719334     \n",
       "5 5         0.008355704     \n",
       "6 6         0.008550189     "
      ]
     },
     "metadata": {},
     "output_type": "display_data"
    },
    {
     "data": {
      "text/html": [
       "<table class=\"dataframe\">\n",
       "<caption>A tibble: 1 × 2</caption>\n",
       "<thead>\n",
       "\t<tr><th scope=col>sample_mean_rate</th><th scope=col>density</th></tr>\n",
       "\t<tr><th scope=col>&lt;dbl&gt;</th><th scope=col>&lt;dbl&gt;</th></tr>\n",
       "</thead>\n",
       "<tbody>\n",
       "\t<tr><td>0.007477811</td><td>34.89085</td></tr>\n",
       "</tbody>\n",
       "</table>\n"
      ],
      "text/latex": [
       "A tibble: 1 × 2\n",
       "\\begin{tabular}{ll}\n",
       " sample\\_mean\\_rate & density\\\\\n",
       " <dbl> & <dbl>\\\\\n",
       "\\hline\n",
       "\t 0.007477811 & 34.89085\\\\\n",
       "\\end{tabular}\n"
      ],
      "text/markdown": [
       "\n",
       "A tibble: 1 × 2\n",
       "\n",
       "| sample_mean_rate &lt;dbl&gt; | density &lt;dbl&gt; |\n",
       "|---|---|\n",
       "| 0.007477811 | 34.89085 |\n",
       "\n"
      ],
      "text/plain": [
       "  sample_mean_rate density \n",
       "1 0.007477811      34.89085"
      ]
     },
     "metadata": {},
     "output_type": "display_data"
    }
   ],
   "source": [
    "# Sample of size 80\n",
    "set.seed(40)\n",
    "sample_80 <- crimes_rate %>%\n",
    "    ungroup() %>%\n",
    "    rep_sample_n(size = 80, reps = 500, replace = FALSE) %>%\n",
    "    group_by(replicate) %>%\n",
    "    dplyr::summarize(sample_mean_rate = mean(rate))\n",
    "head(sample_80)\n",
    "\n",
    "# !!!!\n",
    "sample_mu <- mean(sample_80$sample_mean_rate)\n",
    "sample_sd <- sd(sample_80$sample_mean_rate)\n",
    "\n",
    "# Approximating the sampling distribution\n",
    "data_normal <- dplyr::tibble(sample_mean_rate = seq(min(sample_80$sample_mean_rate), \n",
    "                                    max(sample_80$sample_mean_rate), 0.01), \n",
    "                                    density = dnorm(sample_mean_rate, sample_mu, sample_sd))\n",
    "head(data_normal)"
   ]
  },
  {
   "cell_type": "code",
   "execution_count": 168,
   "id": "asian-footage",
   "metadata": {},
   "outputs": [
    {
     "name": "stderr",
     "output_type": "stream",
     "text": [
      "geom_path: Each group consists of only one observation. Do you need to adjust\n",
      "the group aesthetic?\n",
      "\n"
     ]
    },
    {
     "data": {
      "image/png": "[encoded data removed]",
      "text/plain": [
       "plot without title"
      ]
     },
     "metadata": {
      "image/png": {
       "height": 480,
       "width": 480
      }
     },
     "output_type": "display_data"
    }
   ],
   "source": [
    "# !!!\n",
    "options(repr.plot.width = 8, repr.plot.height = 8)\n",
    "\n",
    "sampling_dist_80 <- sample_80 %>% \n",
    "    ggplot() + \n",
    "    geom_histogram(aes(x = sample_mean_rate, y = ..density..), binwidth = 2, color = \"white\") +\n",
    "    theme(text = element_text(size = 15))+\n",
    "    xlab(\"Sample Mean\") +\n",
    "    ggtitle(\"Sampling distribution of the sample mean for samples of size 80 for Crime in Vancouver\") + \n",
    "    geom_line(data = data_normal, aes(sample_mean_rate, density), color = \"blue\", lwd=2) +\n",
    "    coord_cartesian(xlim = c(20,75)) +\n",
    "    theme(text = element_text(size = 15))\n",
    "\n",
    "sampling_dist_80"
   ]
  },
  {
   "cell_type": "markdown",
   "id": "ignored-virgin",
   "metadata": {},
   "source": [
    "### Bootstrapping\n"
   ]
  },
  {
   "cell_type": "code",
   "execution_count": 176,
   "id": "executed-hindu",
   "metadata": {},
   "outputs": [
    {
     "data": {
      "text/html": [
       "<table class=\"dataframe\">\n",
       "<caption>A tibble: 6 × 2</caption>\n",
       "<thead>\n",
       "\t<tr><th scope=col>replicate</th><th scope=col>sample_mean</th></tr>\n",
       "\t<tr><th scope=col>&lt;int&gt;</th><th scope=col>&lt;dbl&gt;</th></tr>\n",
       "</thead>\n",
       "<tbody>\n",
       "\t<tr><td>1</td><td>0.007593632</td></tr>\n",
       "\t<tr><td>2</td><td>0.007291356</td></tr>\n",
       "\t<tr><td>3</td><td>0.008051146</td></tr>\n",
       "\t<tr><td>4</td><td>0.007330599</td></tr>\n",
       "\t<tr><td>5</td><td>0.008271101</td></tr>\n",
       "\t<tr><td>6</td><td>0.008203996</td></tr>\n",
       "</tbody>\n",
       "</table>\n"
      ],
      "text/latex": [
       "A tibble: 6 × 2\n",
       "\\begin{tabular}{ll}\n",
       " replicate & sample\\_mean\\\\\n",
       " <int> & <dbl>\\\\\n",
       "\\hline\n",
       "\t 1 & 0.007593632\\\\\n",
       "\t 2 & 0.007291356\\\\\n",
       "\t 3 & 0.008051146\\\\\n",
       "\t 4 & 0.007330599\\\\\n",
       "\t 5 & 0.008271101\\\\\n",
       "\t 6 & 0.008203996\\\\\n",
       "\\end{tabular}\n"
      ],
      "text/markdown": [
       "\n",
       "A tibble: 6 × 2\n",
       "\n",
       "| replicate &lt;int&gt; | sample_mean &lt;dbl&gt; |\n",
       "|---|---|\n",
       "| 1 | 0.007593632 |\n",
       "| 2 | 0.007291356 |\n",
       "| 3 | 0.008051146 |\n",
       "| 4 | 0.007330599 |\n",
       "| 5 | 0.008271101 |\n",
       "| 6 | 0.008203996 |\n",
       "\n"
      ],
      "text/plain": [
       "  replicate sample_mean\n",
       "1 1         0.007593632\n",
       "2 2         0.007291356\n",
       "3 3         0.008051146\n",
       "4 4         0.007330599\n",
       "5 5         0.008271101\n",
       "6 6         0.008203996"
      ]
     },
     "metadata": {},
     "output_type": "display_data"
    }
   ],
   "source": [
    "# Bootstrap with sample size 80\n",
    "set.seed(45)\n",
    "one_sample <- crimes_rate %>%\n",
    "    ungroup() %>%\n",
    "    rep_sample_n(size = 80, reps = 1, replace = FALSE)\n",
    "\n",
    "bootstrap_500 <- one_sample %>%\n",
    "    rep_sample_n(size = 80, reps = 500, replace = TRUE) %>%\n",
    "    group_by(replicate) %>% \n",
    "    dplyr::summarise(sample_mean = mean(rate)) \n",
    "\n",
    "head(bootstrap_500)"
   ]
  },
  {
   "cell_type": "code",
   "execution_count": 180,
   "id": "brief-characteristic",
   "metadata": {},
   "outputs": [
    {
     "name": "stderr",
     "output_type": "stream",
     "text": [
      "geom_path: Each group consists of only one observation. Do you need to adjust\n",
      "the group aesthetic?\n",
      "\n"
     ]
    },
    {
     "data": {
      "image/png": "[encoded data removed]",
      "text/plain": [
       "plot without title"
      ]
     },
     "metadata": {
      "image/png": {
       "height": 480,
       "width": 480
      }
     },
     "output_type": "display_data"
    }
   ],
   "source": [
    "# !!!\n",
    "options(repr.plot.width = 8, repr.plot.height = 8)\n",
    "\n",
    "bootstrap_500_plot <- bootstrap_500 %>% \n",
    "    ggplot() + \n",
    "    geom_histogram(aes(x = sample_mean, y = ..density..), binwidth = 2, color = \"white\") +\n",
    "    theme(text = element_text(size = 15)) +\n",
    "    xlab(\"Bootstrap Mean\") +\n",
    "    ggtitle(\"Bootstrapping of the sample mean for samples of size 500 for Crime in Vancouver\") + \n",
    "    geom_line(data = data_normal, aes(sample_mean_rate, density), color = \"blue\", lwd = 2) +\n",
    "    coord_cartesian(xlim = c(0,75))\n",
    "bootstrap_500_plot"
   ]
  },
  {
   "cell_type": "markdown",
   "id": "quarterly-proceeding",
   "metadata": {},
   "source": [
    "### Hypothesis Testing\n"
   ]
  },
  {
   "cell_type": "code",
   "execution_count": 182,
   "id": "invisible-specialist",
   "metadata": {},
   "outputs": [
    {
     "name": "stderr",
     "output_type": "stream",
     "text": [
      "Setting `type = \"bootstrap\"` in `generate()`.\n",
      "\n"
     ]
    },
    {
     "data": {
      "text/html": [
       "<table class=\"dataframe\">\n",
       "<caption>A tibble: 6 × 2</caption>\n",
       "<thead>\n",
       "\t<tr><th scope=col>replicate</th><th scope=col>stat</th></tr>\n",
       "\t<tr><th scope=col>&lt;int&gt;</th><th scope=col>&lt;dbl&gt;</th></tr>\n",
       "</thead>\n",
       "<tbody>\n",
       "\t<tr><td>1</td><td>47.14439</td></tr>\n",
       "\t<tr><td>2</td><td>47.14405</td></tr>\n",
       "\t<tr><td>3</td><td>47.14397</td></tr>\n",
       "\t<tr><td>4</td><td>47.14409</td></tr>\n",
       "\t<tr><td>5</td><td>47.14405</td></tr>\n",
       "\t<tr><td>6</td><td>47.14421</td></tr>\n",
       "</tbody>\n",
       "</table>\n"
      ],
      "text/latex": [
       "A tibble: 6 × 2\n",
       "\\begin{tabular}{ll}\n",
       " replicate & stat\\\\\n",
       " <int> & <dbl>\\\\\n",
       "\\hline\n",
       "\t 1 & 47.14439\\\\\n",
       "\t 2 & 47.14405\\\\\n",
       "\t 3 & 47.14397\\\\\n",
       "\t 4 & 47.14409\\\\\n",
       "\t 5 & 47.14405\\\\\n",
       "\t 6 & 47.14421\\\\\n",
       "\\end{tabular}\n"
      ],
      "text/markdown": [
       "\n",
       "A tibble: 6 × 2\n",
       "\n",
       "| replicate &lt;int&gt; | stat &lt;dbl&gt; |\n",
       "|---|---|\n",
       "| 1 | 47.14439 |\n",
       "| 2 | 47.14405 |\n",
       "| 3 | 47.14397 |\n",
       "| 4 | 47.14409 |\n",
       "| 5 | 47.14405 |\n",
       "| 6 | 47.14421 |\n",
       "\n"
      ],
      "text/plain": [
       "  replicate stat    \n",
       "1 1         47.14439\n",
       "2 2         47.14405\n",
       "3 3         47.14397\n",
       "4 4         47.14409\n",
       "5 5         47.14405\n",
       "6 6         47.14421"
      ]
     },
     "metadata": {},
     "output_type": "display_data"
    }
   ],
   "source": [
    "# Generating the Null model\n",
    "null_model_infer <- crimes_rate %>%\n",
    "    specify(response = rate) %>%\n",
    "    hypothesise(null = \"point\", mu = 47.144) %>%\n",
    "    generate(reps = 500) %>%\n",
    "    calculate(stat = \"mean\")\n",
    "    \n",
    "head(null_model_infer)"
   ]
  },
  {
   "cell_type": "code",
   "execution_count": 184,
   "id": "oriental-pharmaceutical",
   "metadata": {},
   "outputs": [
    {
     "data": {
      "image/png": "[encoded data removed]",
      "text/plain": [
       "plot without title"
      ]
     },
     "metadata": {
      "image/png": {
       "height": 480,
       "width": 480
      }
     },
     "output_type": "display_data"
    }
   ],
   "source": [
    "null_model_vis_infer <- null_model_infer %>% \n",
    "    visualize() + \n",
    "    shade_p_value(obs_stat = pop_mu, direction = \"left\") +\n",
    "    xlab(\"Mean of number of rates of crimes\") + \n",
    "    theme(text = element_text(size = 20))\n",
    "\n",
    "null_model_vis_infer"
   ]
  },
  {
   "cell_type": "code",
   "execution_count": null,
   "id": "external-bleeding",
   "metadata": {},
   "outputs": [],
   "source": []
  }
 ],
 "metadata": {
  "kernelspec": {
   "display_name": "R",
   "language": "R",
   "name": "ir"
  },
  "language_info": {
   "codemirror_mode": "r",
   "file_extension": ".r",
   "mimetype": "text/x-r-source",
   "name": "R",
   "pygments_lexer": "r",
   "version": "4.0.3"
  }
 },
 "nbformat": 4,
 "nbformat_minor": 5
}
